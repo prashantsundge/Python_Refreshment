{
  "nbformat": 4,
  "nbformat_minor": 0,
  "metadata": {
    "colab": {
      "provenance": []
    },
    "kernelspec": {
      "name": "python3",
      "display_name": "Python 3"
    },
    "language_info": {
      "name": "python"
    }
  },
  "cells": [
    {
      "cell_type": "markdown",
      "source": [
        "<font size=\"+2\" color=\"#4CAF50\"><b>Python Refreshment Part 2</b></font>  \n",
        "\n",
        "Written by: [Prashant Sundge](https://www.linkedin.com/in/prashantsundge/)\n",
        "\n",
        "---\n",
        "<br> <!-- Insert line break for new page -->\n",
        "<br> <!-- Insert line break for new page -->\n",
        "<font size=\"+1\" color=\"#009688\"><b>Table of Contents</b></font>\n",
        "\n",
        "1. [Lambda Function](#lambda-function)\n",
        "    - Explanation\n",
        "    - Architecture\n",
        "    - Programs\n",
        "\n",
        "2. [Special Functions](#special-functions)\n",
        "    - Filter()\n",
        "        - Explanation\n",
        "        - Architecture\n",
        "        - Programs\n",
        "    - Map()\n",
        "        - Explanation\n",
        "        - Architecture\n",
        "        - Programs\n",
        "    - Reduce()\n",
        "        - Explanation\n",
        "        - Architecture\n",
        "        - Programs\n",
        "\n",
        "3. [List Comprehension](#list-comprehension)\n",
        "    - List Comprehension Using Lambda Function\n",
        "    - Dict Comprehension\n",
        "    - Set Comprehension\n",
        "\n",
        "<br> <!-- Insert line break for new page -->\n",
        "<br> <!-- Insert line break for new page -->\n",
        "<br> <!-- Insert line break for new page -->\n",
        "<br> <!-- Insert line break for new page -->\n",
        "\n",
        "<!-- Start of content on the new page -->\n",
        "<font size=\"+2\" color=\"#4CAF50\"><b>Python Refreshment Part 2: Content</b></font>\n",
        "\n",
        "\n"
      ],
      "metadata": {
        "id": "eVPG6mZ8oNPw"
      }
    },
    {
      "cell_type": "markdown",
      "source": [
        "# Lambda Functions\n",
        "\n",
        "- Anonymous functions are those which does not contain name (nameless).\n",
        "- The purpose of lambda funciton is to perform instant operations which will require at that point and no longer needed futher like functions\n",
        "- lamda funciton contains only one statement or Expression  not like functions blocks of statements\n",
        "- Lambda function returns the value implicitly or automatically when it executes\n",
        "\n",
        "  - Syntax **varname=lambda params-list :expression**\n",
        "      - OR\n",
        "  - Syntax **varname=lambda params-list: Statement**\n",
        "\n",
        "### Explaination\n",
        "- here lambda is keyword which is used to define lambda functions\n",
        "- param-list represents list of variables used for storing inputs coming fucniton call\n",
        "- Expression/Statements represents and executable statement and whose result returns automatically (no need of return statement)\n",
        "\n",
        "\n"
      ],
      "metadata": {
        "id": "y8oRC7T39K-w"
      }
    },
    {
      "cell_type": "markdown",
      "source": [
        "#### Question: Define a function for cal addition of two numbers"
      ],
      "metadata": {
        "id": "N6Lvbk60EzaS"
      }
    },
    {
      "cell_type": "code",
      "execution_count": null,
      "metadata": {
        "colab": {
          "base_uri": "https://localhost:8080/"
        },
        "id": "VLxvXVHt9DOA",
        "outputId": "8797dcae-a6a2-4ace-bdb1-49bbd34fd98c"
      },
      "outputs": [
        {
          "output_type": "stream",
          "name": "stdout",
          "text": [
            "Addition : 30\n"
          ]
        }
      ],
      "source": [
        "# By Using Normal Function\n",
        "\n",
        "def calc_add(a,b):\n",
        "  c= a+b\n",
        "  return c\n",
        "\n",
        "#main program\n",
        "result=calc_add(10,20),\n",
        "print(\"Addition : {}\".format(result))\n"
      ]
    },
    {
      "cell_type": "code",
      "source": [
        "# by using lambda function\n",
        "result = (lambda x,y : x+y)\n",
        "print(result(10,20))"
      ],
      "metadata": {
        "colab": {
          "base_uri": "https://localhost:8080/"
        },
        "id": "xEGke9oSFfGl",
        "outputId": "19b8bb05-d832-4e62-df84-8c5114d4198b"
      },
      "execution_count": null,
      "outputs": [
        {
          "output_type": "stream",
          "name": "stdout",
          "text": [
            "30\n"
          ]
        }
      ]
    },
    {
      "cell_type": "code",
      "source": [
        "#program accepting Two value and find biggest among them by using Anonymous Functions\n",
        "##AnonymousFunsEx2.py\n",
        "a=int(input('Enter a value'))\n",
        "b=int(input('Enter second value'))\n",
        "\n",
        "result = lambda x,y : x if x > y else y if y > x else 'Both are same'\n",
        "print(result(a,b))\n"
      ],
      "metadata": {
        "colab": {
          "base_uri": "https://localhost:8080/"
        },
        "id": "GUeteQQUGB_b",
        "outputId": "93b3caf8-1729-41cb-b9f7-c6b5a625b203"
      },
      "execution_count": null,
      "outputs": [
        {
          "output_type": "stream",
          "name": "stdout",
          "text": [
            "Enter a value25\n",
            "Enter second value25\n",
            "Both are same\n"
          ]
        }
      ]
    },
    {
      "cell_type": "code",
      "source": [
        "#program accepting Three value and find biggest among them by using Anonymous Functions\n",
        "#AnonymousFunsEx3.py\n",
        "a=int(input('Enter First value'))\n",
        "b=int(input('Enter second value'))\n",
        "c=int(input('Enter Third value'))\n",
        "\n",
        "print(\"-\" * 18 + \"Normal Function\" + \"-\" * 9)\n",
        "\n",
        "def normal_big(x,y,z):\n",
        "  if x > y and x > z:\n",
        "    print(\"Big Number : {}\".format(x))\n",
        "  elif y > x and y > z:\n",
        "    print(\"Big Number : {}\".format(y))\n",
        "  elif z > x and z > y :\n",
        "    print(\"Big Number : {}\".format(z))\n",
        "  else:\n",
        "    print('ALL ARE SAME : {} {} {}'.format(x,y,z))\n",
        "#main program\n",
        "normal_big(a,b,c)\n",
        "print(\"-\" * 18 + \"Lambda Function\" + \"-\" * 9)\n",
        "big = lambda x,y,z : x if (x > y) and (x > z) else y if (y > x) and (y > z) else z if (z > x) and (z > y) else 'All Are Same'\n",
        "print(big(a,b,c))"
      ],
      "metadata": {
        "colab": {
          "base_uri": "https://localhost:8080/"
        },
        "id": "Hlyb5iV2HGn7",
        "outputId": "ed45dd95-19ec-4e2a-af70-8620712c6151"
      },
      "execution_count": null,
      "outputs": [
        {
          "output_type": "stream",
          "name": "stdout",
          "text": [
            "Enter First value25\n",
            "Enter second value25\n",
            "Enter Third value25\n",
            "------------------Normal Function---------\n",
            "ALL ARE SAME : 25 25 25\n",
            "------------------Lambda Function---------\n",
            "All Are Same\n"
          ]
        }
      ]
    },
    {
      "cell_type": "code",
      "source": [
        "#program accepting Three value and find biggest among them by using Anonymous Functions\n",
        "#AnonymousFunsEx3.py\n",
        "a=int(input('Enter First value'))\n",
        "b=int(input('Enter second value'))\n",
        "c=int(input('Enter Third value'))\n",
        "\n",
        "print(\"-\" * 18 + \"Normal Function\" + \"-\" * 9)\n",
        "\n",
        "def normal_big(x,y,z):\n",
        "  if y<=x>y:\n",
        "    print(\"Big Number : {}\".format(x))\n",
        "  elif z<=y>x:\n",
        "    print(\"Big Number : {}\".format(y))\n",
        "  elif x <=z>y:\n",
        "    print(\"Big Number : {}\".format(z))\n",
        "  else:\n",
        "    print('ALL ARE SAME : {} {} {}'.format(x,y,z))\n",
        "#main program\n",
        "normal_big(a,b,c)\n",
        "print(\"-\" * 18 + \"Lambda Function\" + \"-\" * 9)\n",
        "big = lambda x,y,z : x if (y<=x>z) else y if (z<=y>x) else z if (x <=z>y) else 'All Are Same'\n",
        "print(big(a,b,c))"
      ],
      "metadata": {
        "colab": {
          "base_uri": "https://localhost:8080/"
        },
        "id": "Y7m4JOB6IplD",
        "outputId": "7808be74-c5c6-4acb-ca1e-7080aae16421"
      },
      "execution_count": null,
      "outputs": [
        {
          "output_type": "stream",
          "name": "stdout",
          "text": [
            "Enter First value25\n",
            "Enter second value25\n",
            "Enter Third value25\n",
            "------------------Normal Function---------\n",
            "ALL ARE SAME : 25 25 25\n",
            "------------------Lambda Function---------\n",
            "All Are Same\n"
          ]
        }
      ]
    },
    {
      "cell_type": "code",
      "source": [
        "#program accepting word and convert into Upper case\n",
        "#AnonymousFunsEx5.py\n",
        "# HINT word=\"python\" output= \"PYTHON\"\n",
        "def conver_string(s):\n",
        "  if s.isupper():\n",
        "    s=s.lower()\n",
        "  else:\n",
        "    s=s.upper()\n",
        "  return s\n",
        "# main program\n",
        "s=input('Enter string \\t')\n",
        "print(\"-\" * 20 + \"Normal Function\" + \"-\" * 20,'\\n')\n",
        "res=conver_string(s)\n",
        "print('Original String : {}\\t Converted String : {} '.format(s,res))\n",
        "print(\"-\" * 20 + \"Normal Function\" + \"-\" * 20 ,'\\n')\n",
        "\n",
        "op = lambda x: s.lower() if s.isupper() else s.upper()\n",
        "print('Original String : {}\\t Converted String : {} '.format(s,op(s)))\n",
        "\n",
        "\n"
      ],
      "metadata": {
        "colab": {
          "base_uri": "https://localhost:8080/"
        },
        "id": "J9tOg7CIMJ9s",
        "outputId": "85dd5f49-8674-44d3-cd99-5b60cc6abbad"
      },
      "execution_count": null,
      "outputs": [
        {
          "output_type": "stream",
          "name": "stdout",
          "text": [
            "Enter string \tprashant sundge\n",
            "--------------------Normal Function-------------------- \n",
            "\n",
            "Original String : prashant sundge\t Converted String : PRASHANT SUNDGE \n",
            "--------------------Normal Function-------------------- \n",
            "\n",
            "Original String : prashant sundge\t Converted String : PRASHANT SUNDGE \n"
          ]
        }
      ]
    },
    {
      "cell_type": "code",
      "source": [
        "#program accepting word/line and find number of words\n",
        "#AnonymousFunsEx6.py\n",
        "\n",
        "s='pams sundge'\n",
        "count=0\n",
        "for ch in s:\n",
        "  if ch != ' ':\n",
        "    count +=1\n",
        "\n",
        "\n",
        "print(count)\n",
        "\n",
        "scount = lambda x: sum(1 for ch in x if ch != ' ')\n",
        "print(scount(s))"
      ],
      "metadata": {
        "colab": {
          "base_uri": "https://localhost:8080/"
        },
        "id": "pmA99yj9M5bY",
        "outputId": "fa008bd5-010d-45af-f101-7ad8ff31a841"
      },
      "execution_count": null,
      "outputs": [
        {
          "output_type": "stream",
          "name": "stdout",
          "text": [
            "10\n",
            "10\n"
          ]
        }
      ]
    },
    {
      "cell_type": "markdown",
      "source": [
        "# Special Function in Python               \n",
        "\n",
        "  - filter()\n",
        "  - map()\n",
        "  - reduce()"
      ],
      "metadata": {
        "id": "BDrZD1nXMFNi"
      }
    },
    {
      "cell_type": "markdown",
      "source": [
        "## Filter()\n",
        "\n",
        "**Syntax varname=filter(fucntion name,iterable_object)**\n",
        "- Here varname is an object of type <class filter > and we can convert into any iterable object by using casting functions\n",
        "- *FuncitonName* represents either normal function or anonymous functions (lambda)\n",
        "-  *iterable objects* represents sequence list, set, tuple, dict types\n",
        "- The execution process of filter() is that each value of iterable object sends to funciton name if the function return True then elements will be filtered if the funciton returns False then that element will be neglected /not filtered this process will be continued until all the elments of iterable object completed\n",
        "\n"
      ],
      "metadata": {
        "id": "OwD1uF4aMvQt"
      }
    },
    {
      "cell_type": "code",
      "source": [
        "#program for obtaining / Filtering +Ve values from list of values\n",
        "#FilterEx1.py\n",
        "def positive(n):\n",
        "  if n>0:\n",
        "    return True\n",
        "  else:\n",
        "    return False\n",
        "#main program\n",
        "lst=[10,-20,30,-40,50,60,-70]\n",
        "kvr=(filter(positive,lst))\n",
        "print('-'*20 + 'Normal Function'+'-'*20)\n",
        "print(type(kvr,))\n",
        "#convert filter obejct in to list\n",
        "positive_list=list(kvr)\n",
        "print('Given Data:',lst)\n",
        "print('Positive Data: ',positive_list)\n",
        "print(\"+\"*55)\n",
        "print('-'*20 + 'Lambda Function'+'-'*20)\n",
        "\n",
        "lam_positive_list=filter(lambda x : x>0 , lst)\n",
        "\n",
        "print(\"Filter Object\", lam_positive_list)\n",
        "lam_positive_list=list(lam_positive_list)\n",
        "\n",
        "print(lam_positive_list)"
      ],
      "metadata": {
        "id": "IX5DrHQzPkRM",
        "colab": {
          "base_uri": "https://localhost:8080/"
        },
        "outputId": "0edb5f67-5b3c-4ff8-85f7-81ff99c50809"
      },
      "execution_count": null,
      "outputs": [
        {
          "output_type": "stream",
          "name": "stdout",
          "text": [
            "--------------------Normal Function--------------------\n",
            "<class 'filter'>\n",
            "Given Data: [10, -20, 30, -40, 50, 60, -70]\n",
            "Positive Data:  [10, 30, 50, 60]\n",
            "+++++++++++++++++++++++++++++++++++++++++++++++++++++++\n",
            "--------------------Lambda Function--------------------\n",
            "Filter Object <filter object at 0x780035435870>\n",
            "[10, 30, 50, 60]\n"
          ]
        }
      ]
    },
    {
      "cell_type": "code",
      "source": [
        "#program for obtaining / Filtering +Ve values from list of values\n",
        "#FilterEx1.py\n",
        "lst=[10,-20,30,-40,50,60,-70]\n",
        "print(lst)\n",
        "pos_list=filter(lambda x : x>0 , lst)\n",
        "pos_list_convert=list(pos_list)\n",
        "print(pos_list_convert)\n",
        "neg_list=filter(lambda x : x<0 , lst)\n",
        "neg_list_convert=list(neg_list)\n",
        "print(neg_list_convert)\n"
      ],
      "metadata": {
        "colab": {
          "base_uri": "https://localhost:8080/"
        },
        "id": "evRAEw-SQ_wj",
        "outputId": "6e5beb9e-1668-4006-f9b0-878dcbe0baa9"
      },
      "execution_count": null,
      "outputs": [
        {
          "output_type": "stream",
          "name": "stdout",
          "text": [
            "[10, -20, 30, -40, 50, 60, -70]\n",
            "[10, 30, 50, 60]\n",
            "[-20, -40, -70]\n"
          ]
        }
      ]
    },
    {
      "cell_type": "code",
      "source": [
        "#program for obtaining / Filtering even from list\n",
        "#FilterEx6.py\n",
        "numbers = [1, 2, 3, 4, 5, 6, 7, 8, 9, 10]\n",
        "def even(n):\n",
        "  even=list()\n",
        "  odd=list()\n",
        "\n",
        "  for i in n:\n",
        "    if i % 2 ==0 :\n",
        "      even.append(i)\n",
        "    else:\n",
        "      odd.append(i)\n",
        "\n",
        "  return even , odd\n",
        "#main program\n",
        "even, odd = even(numbers)\n",
        "print('Orginal list ', numbers)\n",
        "print(\"Odd Number \", odd)\n",
        "print('Even Number ', even)\n",
        "\n",
        "\n",
        "\n",
        "\n",
        "print('-'*20 + 'Lambda Function'+'-'*20)\n",
        "\n",
        "lambda_even = filter(lambda x: x%2==0 , numbers)\n",
        "lambda_odd = filter(lambda x: x%2!=0 , numbers)\n",
        "\n",
        "lambda_even = tuple (lambda_even)\n",
        "lambda_odd = list(lambda_odd)\n",
        "print('Orginal list ', numbers)\n",
        "print(lambda_even, type(lambda_even))\n",
        "print(lambda_odd, type(lambda_odd))\n",
        "print(\"+\"*50)\n",
        "\n",
        "\n",
        "\n",
        "print('-'*20 + 'Lambda Function'+'-'*20)\n",
        "result = filter(lambda x: x % 2 == 0, numbers), filter(lambda x: x % 2 != 0, numbers)\n",
        "even, odd = list(result[0]), list(result[1])\n",
        "print(even, odd)\n",
        "print(\"+\"*50)"
      ],
      "metadata": {
        "colab": {
          "base_uri": "https://localhost:8080/"
        },
        "id": "D1DfxNVqTwlu",
        "outputId": "2a945366-a0c8-4280-845f-cf17854aae0b"
      },
      "execution_count": null,
      "outputs": [
        {
          "output_type": "stream",
          "name": "stdout",
          "text": [
            "Orginal list  [1, 2, 3, 4, 5, 6, 7, 8, 9, 10]\n",
            "Odd Number  [1, 3, 5, 7, 9]\n",
            "Even Number  [2, 4, 6, 8, 10]\n",
            "--------------------Lambda Function--------------------\n",
            "Orginal list  [1, 2, 3, 4, 5, 6, 7, 8, 9, 10]\n",
            "(2, 4, 6, 8, 10) <class 'tuple'>\n",
            "[1, 3, 5, 7, 9] <class 'list'>\n",
            "++++++++++++++++++++++++++++++++++++++++++++++++++\n",
            "--------------------Lambda Function--------------------\n",
            "[2, 4, 6, 8, 10] [1, 3, 5, 7, 9]\n",
            "++++++++++++++++++++++++++++++++++++++++++++++++++\n"
          ]
        }
      ]
    },
    {
      "cell_type": "code",
      "source": [
        "strings = [\"Hello\", \"world\", \"PYTHON\", \"Programming\", \"LANGUAGE\"]\n",
        "\n",
        "uppercase_strings = list(filter(lambda s: s.isupper(), strings))\n",
        "print(\"Uppercase strings:\", uppercase_strings)\n"
      ],
      "metadata": {
        "colab": {
          "base_uri": "https://localhost:8080/"
        },
        "id": "W8rMt141WmMD",
        "outputId": "48dd3e29-17e9-43b5-d6fc-41e68be6124b"
      },
      "execution_count": null,
      "outputs": [
        {
          "output_type": "stream",
          "name": "stdout",
          "text": [
            "Uppercase strings: ['PYTHON', 'LANGUAGE']\n"
          ]
        }
      ]
    },
    {
      "cell_type": "markdown",
      "source": [
        "# Map()\n",
        "\n",
        "**Syntax varname = map(functionName, iterable_object)**\n",
        "\n",
        "- The Execution  process of map() is that map() sends every element of iterable object to the specified function process it and returns the modified value(result) and new list of elements will be obtained the process will be continued until all the eleements of iterable_object completed\n",
        "- map() is used for obtaining new iterable objects from existing iterable object by applying old iterable elements to the function\n"
      ],
      "metadata": {
        "id": "W6iuBRybpERh"
      }
    },
    {
      "cell_type": "code",
      "source": [
        "#write  a python program which will hike the employee salary by 15 % and store it in new list\n",
        "#program for obtaining newsal list from oldlist\n",
        "\n",
        "def sal_hike(lst):\n",
        "  new_sal=list()\n",
        "  for i in lst:\n",
        "    new_sal.append(i+i*.15)\n",
        "  return new_sal\n",
        "#main program\n",
        "emp_sal=[20000,30000,40000,50000,60000]\n",
        "new_sal=sal_hike(emp_sal)\n",
        "print(\"Employee Present Salary \")\n",
        "print(emp_sal)\n",
        "print(\"Employee 15% hike Salary \")\n",
        "print(new_sal)\n"
      ],
      "metadata": {
        "id": "eqwwM1UYe6uG",
        "colab": {
          "base_uri": "https://localhost:8080/"
        },
        "outputId": "7c4ccd21-29e9-4046-b8fc-cb98508e3c85"
      },
      "execution_count": 3,
      "outputs": [
        {
          "output_type": "stream",
          "name": "stdout",
          "text": [
            "Employee Present Salary \n",
            "[20000, 30000, 40000, 50000, 60000]\n",
            "Employee 15% hike Salary \n",
            "[23000.0, 34500.0, 46000.0, 57500.0, 69000.0]\n"
          ]
        }
      ]
    },
    {
      "cell_type": "code",
      "source": [
        "# write a program to find their squares\n",
        "\n",
        "def square(l):\n",
        "  sqr=[]\n",
        "  for i in l:\n",
        "    sqr.append(i**2)\n",
        "  return sqr\n",
        "\n",
        "#main program\n",
        "lst=[1,2,3,4,5,6,7,8]\n",
        "sqr=square(lst)\n",
        "print('Orignal List ',lst)\n",
        "print('Square list',sqr)\n",
        "\n",
        "\n",
        "print('-'*20 + 'Lambda Function'+'-'*20)\n",
        "\n",
        "l_sqr= list(map(lambda x : x**2 , lst))\n",
        "print('Orignal List ',lst)\n",
        "print('Square list',l_sqr)\n",
        "\n"
      ],
      "metadata": {
        "id": "sIdLY43yXCH6",
        "colab": {
          "base_uri": "https://localhost:8080/"
        },
        "outputId": "12af47f3-bd22-4189-ef9e-94814a4ebccd"
      },
      "execution_count": 5,
      "outputs": [
        {
          "output_type": "stream",
          "name": "stdout",
          "text": [
            "Orignal List  [1, 2, 3, 4, 5, 6, 7, 8]\n",
            "Square list [1, 4, 9, 16, 25, 36, 49, 64]\n",
            "--------------------Lambda Function--------------------\n",
            "Orignal List  [1, 2, 3, 4, 5, 6, 7, 8]\n",
            "Square list [1, 4, 9, 16, 25, 36, 49, 64]\n"
          ]
        }
      ]
    },
    {
      "cell_type": "code",
      "source": [
        "#Filter rows based on a condition in a DataFrame column:\n",
        "import pandas as pd\n",
        "\n",
        "# Create a DataFrame\n",
        "data = {'Numbers': [10, 20, 30, 40, 50]}\n",
        "df = pd.DataFrame(data)\n",
        "\n",
        "# Filter rows where 'Numbers' column is greater than 30\n",
        "filtered_df = df[df['Numbers'].map(lambda x: x > 30)]\n",
        "\n",
        "print(filtered_df)\n"
      ],
      "metadata": {
        "colab": {
          "base_uri": "https://localhost:8080/"
        },
        "id": "gz0DKCthtFp9",
        "outputId": "728fd76c-8260-4a32-a489-f2c5f0d484fa"
      },
      "execution_count": 6,
      "outputs": [
        {
          "output_type": "stream",
          "name": "stdout",
          "text": [
            "   Numbers\n",
            "3       40\n",
            "4       50\n"
          ]
        }
      ]
    },
    {
      "cell_type": "markdown",
      "source": [
        "# reduce()\n",
        "\n",
        "- reduce() is used for obtaining a single element/result from given iterable object by applying to a function\n",
        "\n",
        "**Syntax  varname=reduce(function-name, iterable-object)**\n",
        "\n",
        "\n",
        "- step1: initially reduce() selects first two values of iterable object and place them in first var and second var\n",
        "- step2: The function-name (lambda or noramal function) utilize the values of first var and second var and applied to the specified logic and obtains the result.\n",
        "- step3: reduce() places the result of function-name in first variable and reduce() select the succeeding element of iterable object and places in second variable\n",
        "- step4: Repeat step 2 and step3 until all the elements completed in iterable object and return of first variable\n",
        "\n"
      ],
      "metadata": {
        "id": "d78JdVm7vSKE"
      }
    },
    {
      "cell_type": "markdown",
      "source": [
        "![image.png](data:image/png;base64,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)"
      ],
      "metadata": {
        "id": "gu83yvO0wu5t"
      }
    },
    {
      "cell_type": "code",
      "source": [
        "# find sum of lst values by using reduce()\n",
        "from functools import reduce\n",
        "def sum(a,b):\n",
        "  return (a+b)\n",
        "\n",
        "#main program\n",
        "lst=[10,20,30,40,50]\n",
        "sm=reduce(sum, lst)\n",
        "print(sm)\n",
        "\n",
        "\n",
        "l_sum=reduce(lambda x , y: x+y , lst)\n",
        "print(\"Lambda reduce :\", l_sum)"
      ],
      "metadata": {
        "colab": {
          "base_uri": "https://localhost:8080/"
        },
        "id": "qKVCTGdMvM-C",
        "outputId": "3bf23d33-806f-4668-e143-e24607b3b1ac"
      },
      "execution_count": 14,
      "outputs": [
        {
          "output_type": "stream",
          "name": "stdout",
          "text": [
            "150\n",
            "Lambda reduce : 150\n"
          ]
        }
      ]
    },
    {
      "cell_type": "code",
      "source": [
        "#Finding Max and min from list of elements by using reduce()\n",
        "#ReduceEx3.py\n",
        "import functools\n",
        "print('Enter list of values seperated by space')\n",
        "lst=[int(val) for val in input().split()]\n",
        "maxv=functools.reduce(lambda x, y :x if  x > y else y, lst)\n",
        "minv=functools.reduce(lambda x, y :x if x < y else y, lst)\n",
        "print('Orignal list', lst)\n",
        "print('Min value ', minv)\n",
        "print('Max value ', maxv)\n"
      ],
      "metadata": {
        "colab": {
          "base_uri": "https://localhost:8080/"
        },
        "id": "sGDLvFGFxSId",
        "outputId": "345f194f-d365-4a1a-ec92-bea72fea91e7"
      },
      "execution_count": 19,
      "outputs": [
        {
          "output_type": "stream",
          "name": "stdout",
          "text": [
            "Enter list of values seperated by space\n",
            "5 4 6 7 8 4 3 0\n",
            "Orignal list [5, 4, 6, 7, 8, 4, 3, 0]\n",
            "Min value  0\n",
            "Max value  8\n"
          ]
        }
      ]
    },
    {
      "cell_type": "code",
      "source": [
        "#write a python program to accept the list of words from keyboard and make a line of text using normal function\n",
        "#reduceex04.py\n",
        "from functools import reduce\n",
        "def line_words(lst):\n",
        "  line=''\n",
        "  for i in lst:\n",
        "    line = line+' '+i\n",
        "  return line\n",
        "\n",
        "print('Enter the list of words ')\n",
        "lst=[word for word in input().split()]\n",
        "print(lst)\n",
        "line=line_words(lst)\n",
        "print(line)\n",
        "\n",
        "l_line=reduce(lambda x ,y : x +' '+ y , lst)\n",
        "print(l_line)\n"
      ],
      "metadata": {
        "colab": {
          "base_uri": "https://localhost:8080/"
        },
        "id": "uQHn6oP6yeUG",
        "outputId": "766bb827-10dc-498b-9c42-0f90516272fe"
      },
      "execution_count": 25,
      "outputs": [
        {
          "output_type": "stream",
          "name": "stdout",
          "text": [
            "Enter the list of words \n",
            "pams is good boy he obey the orders of his senior \n",
            "['pams', 'is', 'good', 'boy', 'he', 'obey', 'the', 'orders', 'of', 'his', 'senior']\n",
            " pams is good boy he obey the orders of his senior\n",
            "pams is good boy he obey the orders of his senior\n"
          ]
        }
      ]
    },
    {
      "cell_type": "markdown",
      "source": [
        "# List Comprehension\n",
        "\n",
        "**Syntax:- list_object =[expression for varname in iterable_object Test_cond]**\n",
        "\n",
        "- The purpose of List Comprehension is that to read the values dynamically from key board seperated by delimeter (space, comma, colon etc)\n",
        "- list comprehension is most effective way for reading the data for list instead traditional readting the data\n",
        "- here Epression represents either type casting or mathematical expression\n",
        ""
      ],
      "metadata": {
        "id": "cyYKdD4Y2Kkp"
      }
    },
    {
      "cell_type": "code",
      "source": [
        "lst=[3,2,4,5,6]\n",
        "newlist=[val*2 for val in lst]\n",
        "print(\"Original list\",lst)\n",
        "print(\"new list\", newlist)"
      ],
      "metadata": {
        "colab": {
          "base_uri": "https://localhost:8080/"
        },
        "id": "4o7-2NrT0WIP",
        "outputId": "7126fc80-f72e-42a9-e3f2-05e4b0b2058a"
      },
      "execution_count": 27,
      "outputs": [
        {
          "output_type": "stream",
          "name": "stdout",
          "text": [
            "Original list [3, 2, 4, 5, 6]\n",
            "new list [6, 4, 8, 10, 12]\n"
          ]
        }
      ]
    },
    {
      "cell_type": "code",
      "source": [
        "#Program accepting list of values seperate by commmas\n",
        "#EvenOddListEx.py\n",
        "print('Enter the values to find Even numbers seperated by comma')\n",
        "lst_val=[float(val) for val in input().split(',')]\n",
        "print(lst_val)"
      ],
      "metadata": {
        "colab": {
          "base_uri": "https://localhost:8080/"
        },
        "id": "QKuid4N23jjk",
        "outputId": "93b22f60-847a-4334-f506-c33656e23e3b"
      },
      "execution_count": 28,
      "outputs": [
        {
          "output_type": "stream",
          "name": "stdout",
          "text": [
            "Enter the values to find Even numbers seperated by comma\n",
            "4,3,5,7,8,9,0\n",
            "[4.0, 3.0, 5.0, 7.0, 8.0, 9.0, 0.0]\n"
          ]
        }
      ]
    },
    {
      "cell_type": "code",
      "source": [
        "#Program accepting list of valuee and get the even values from the list\n",
        "#EvenOddListEx.py\n",
        "print('Enter the values to find Even numbers seperated by comma')\n",
        "lst_val=[int(val) for val in input().split(',') if int(val) % 2 ==0 ]\n",
        "print(lst_val)"
      ],
      "metadata": {
        "colab": {
          "base_uri": "https://localhost:8080/"
        },
        "id": "iPvgxDlZ4OZe",
        "outputId": "0eff85f6-86d6-4afd-fac3-e96005cd9e11"
      },
      "execution_count": 29,
      "outputs": [
        {
          "output_type": "stream",
          "name": "stdout",
          "text": [
            "Enter the values to find Even numbers seperated by comma\n",
            "3,5,7,8,6,4,2\n",
            "[8, 6, 4, 2]\n"
          ]
        }
      ]
    },
    {
      "cell_type": "code",
      "source": [
        "#write a program to print the squar values of a given list using comprehension\n",
        "lst=[1,2,3,4, 5, 6, 7, 8, 9, 10]\n",
        "\n",
        "sqr_val=[i**2 for i in lst]\n",
        "print(sqr_val)\n",
        "print('Values \\t Squar')\n",
        "for i , v in zip(lst, sqr_val):\n",
        "  print(i ,'\\t', v)\n",
        ""
      ],
      "metadata": {
        "colab": {
          "base_uri": "https://localhost:8080/"
        },
        "id": "OHmB3XnR5tJk",
        "outputId": "53a60cd1-aa74-40f7-cfe5-82fbf95d121c"
      },
      "execution_count": 33,
      "outputs": [
        {
          "output_type": "stream",
          "name": "stdout",
          "text": [
            "[1, 4, 9, 16, 25, 36, 49, 64, 81, 100]\n",
            "Values \t Squar\n",
            "1 \t 1\n",
            "2 \t 4\n",
            "3 \t 9\n",
            "4 \t 16\n",
            "5 \t 25\n",
            "6 \t 36\n",
            "7 \t 49\n",
            "8 \t 64\n",
            "9 \t 81\n",
            "10 \t 100\n"
          ]
        }
      ]
    },
    {
      "cell_type": "code",
      "source": [
        "#write a program to print the postive and negative  values\n",
        "print('Accepct postive negative numbers from user')\n",
        "lst=[int(n) for n in input().split()]\n",
        "positive = [pos for pos in lst if pos < 0]\n",
        "negative =[neg for neg in lst if neg > 0]\n",
        "print('Positive \\t Negative')\n",
        "for p , n in zip(positive, negative):\n",
        "  print(p,'\\t\\t',n)\n"
      ],
      "metadata": {
        "colab": {
          "base_uri": "https://localhost:8080/"
        },
        "id": "Fusxh43N6V3w",
        "outputId": "890f151d-da2c-4444-f58b-9f932fd079aa"
      },
      "execution_count": 37,
      "outputs": [
        {
          "output_type": "stream",
          "name": "stdout",
          "text": [
            "Accepct postive negative numbers from user\n",
            "3 -2 4 -4 5 -5 -6 7\n",
            "Positive \t Negative\n",
            "-2 \t\t 3\n",
            "-4 \t\t 4\n",
            "-5 \t\t 5\n",
            "-6 \t\t 7\n"
          ]
        }
      ]
    },
    {
      "cell_type": "code",
      "source": [
        "#Write a python program which will seperate the palindrom words from given list of words\n",
        "words =['mom' ,'shyam', 'madam', 'dad', 'liril', 'malayalam' ,'rajesh', 'redder', \"racecar\", \"refer\", \"civic\", \"deified\" ,\"level\"]\n",
        "palindrom_words=[word for word in words if word==word[::-1]]\n",
        "print(palindrom_words)\n"
      ],
      "metadata": {
        "colab": {
          "base_uri": "https://localhost:8080/"
        },
        "id": "RezLrY8y8rTu",
        "outputId": "215cdc7c-8c88-4c5e-ee9f-4a92610471c7"
      },
      "execution_count": 56,
      "outputs": [
        {
          "output_type": "stream",
          "name": "stdout",
          "text": [
            "['mom', 'madam', 'dad', 'liril', 'malayalam', 'redder', 'racecar', 'refer', 'civic', 'deified', 'level']\n"
          ]
        }
      ]
    },
    {
      "cell_type": "code",
      "source": [
        "#find the palindrom word lengths and also find the highest length parlindrom word with length and word\n",
        "words =['mom' ,'shyam', 'madam', 'dad', 'liril', 'malayalam' ,'rajesh', 'redder', \"racecar\", \"refer\", \"civic\", \"deified\" ,\"level\"]\n",
        "palindrom_words=[word for word in words if word==word[::-1]]\n",
        "\n",
        "dict_pal=dict([pw,(len(pw))] for pw in palindrom_words)\n",
        "for p ,l in dict_pal.items():\n",
        "  print(p , '\\t\\t\\t', l)\n",
        "\n",
        "# #find max values from dict\n",
        "\n",
        "max_val=0\n",
        "max_key = None\n",
        "for k, v in dict_pal.items():\n",
        "  if v > max_val:\n",
        "    max_val = v\n",
        "    max_key = k\n",
        "\n",
        "print('MAX length Palindrom word is {} and length is {}'.format(max_key,max_val))\n"
      ],
      "metadata": {
        "colab": {
          "base_uri": "https://localhost:8080/"
        },
        "id": "E0gbBcBFAjjW",
        "outputId": "506c6fd1-51e6-4661-f3db-b5c7554790d9"
      },
      "execution_count": 86,
      "outputs": [
        {
          "output_type": "stream",
          "name": "stdout",
          "text": [
            "mom \t\t\t 3\n",
            "madam \t\t\t 5\n",
            "dad \t\t\t 3\n",
            "liril \t\t\t 5\n",
            "malayalam \t\t\t 9\n",
            "redder \t\t\t 6\n",
            "racecar \t\t\t 7\n",
            "refer \t\t\t 5\n",
            "civic \t\t\t 5\n",
            "deified \t\t\t 7\n",
            "level \t\t\t 5\n",
            "MAX length Palindrom word is malayalam and length is 9\n"
          ]
        }
      ]
    },
    {
      "cell_type": "markdown",
      "source": [
        "## Using lambda fucntion"
      ],
      "metadata": {
        "id": "yqDXUsGbLQHa"
      }
    },
    {
      "cell_type": "code",
      "source": [
        "num_list=[1,2,3,4,5]\n",
        "\n",
        "sqr_list=[n**2 for n in num_list ]\n",
        "print(sqr_list)\n",
        "sqr_lam={num : (lambda x: x**2) (num) for num in num_list}\n",
        "print(sqr_lam)"
      ],
      "metadata": {
        "colab": {
          "base_uri": "https://localhost:8080/"
        },
        "id": "N6oPHjcVI6Hn",
        "outputId": "1c00b534-c33c-478d-9a58-2322bf43b747"
      },
      "execution_count": 88,
      "outputs": [
        {
          "output_type": "stream",
          "name": "stdout",
          "text": [
            "[1, 4, 9, 16, 25]\n",
            "{1: 1, 2: 4, 3: 9, 4: 16, 5: 25}\n"
          ]
        }
      ]
    },
    {
      "cell_type": "code",
      "source": [
        "'''\n",
        "using a function to define the key or value expressng you can use a function to define\n",
        "the key or value expression in the dict comprehension\n",
        "'''\n",
        "def sqr(num):\n",
        "  return num * num\n",
        "\n",
        "num1=[1,2,3]\n",
        "sqr= {num : sqr(num) for num in num1}\n",
        "print(sqr)\n"
      ],
      "metadata": {
        "colab": {
          "base_uri": "https://localhost:8080/"
        },
        "id": "FleoF6NHLl3Y",
        "outputId": "04741325-1721-4e37-edce-ce7614a5e0c0"
      },
      "execution_count": 90,
      "outputs": [
        {
          "output_type": "stream",
          "name": "stdout",
          "text": [
            "{1: 1, 2: 4, 3: 9}\n"
          ]
        }
      ]
    },
    {
      "cell_type": "markdown",
      "source": [
        "## dict Comprehension\n",
        "\n",
        "** syntaxt :- new_dict = {key_expression: value_expression for item in iterable_if_condition }**"
      ],
      "metadata": {
        "id": "WoyrCMjTPTBO"
      }
    },
    {
      "cell_type": "code",
      "source": [
        "name = ['pams', 'rajesh', 'shweta']\n",
        "profs = ['Engineer', 'Teacher', 'Doctor']\n",
        "\n",
        "# #Method 1\n",
        "my_dict= {}\n",
        "my_dict1 ={}\n",
        "for (key, value) in zip(name, profs):\n",
        "  my_dict[key] = value\n",
        "print(\"USING ZIP\")\n",
        "print(my_dict)\n",
        "\n",
        "#method2\n",
        "for i in range(len(name)):\n",
        "  my_dict1[name[i]] = profs[i]\n",
        "print(\"USING RANGE\")\n",
        "print(my_dict1)\n",
        "\n",
        "# dict Comprehension\n",
        "\n",
        "my_dict_com={key:value for (key, value) in zip(name, profs)}\n",
        "print(\"DICT COMPRESNSION\")\n",
        "print(my_dict_com)\n",
        "\n",
        "# range comprehension\n",
        "my_dict_com_range={name[i]:profs[i] for i in range(len(name))}\n",
        "print(\"DICT COMPRESNSION RANGE\")\n",
        "print(my_dict_com_range)\n",
        "\n"
      ],
      "metadata": {
        "colab": {
          "base_uri": "https://localhost:8080/"
        },
        "id": "RkNhG9I6rVeZ",
        "outputId": "c0d58a2f-1795-4d93-9b4e-b63e04fb3668"
      },
      "execution_count": 120,
      "outputs": [
        {
          "output_type": "stream",
          "name": "stdout",
          "text": [
            "USING ZIP\n",
            "{'pams': 'Engineer', 'rajesh': 'Teacher', 'shweta': 'Doctor'}\n",
            "USING RANGE\n",
            "{'pams': 'Engineer', 'rajesh': 'Teacher', 'shweta': 'Doctor'}\n",
            "DICT COMPRESNSION\n",
            "{'pams': 'Engineer', 'rajesh': 'Teacher', 'shweta': 'Doctor'}\n",
            "DICT COMPRESNSION RANGE\n",
            "{'pams': 'Engineer', 'rajesh': 'Teacher', 'shweta': 'Doctor'}\n"
          ]
        }
      ]
    },
    {
      "cell_type": "code",
      "source": [
        "import pandas as pd\n",
        "\n",
        "name =pd.DataFrame( ['pams', 'rajesh', 'shweta'])\n",
        "profs = pd.DataFrame(['Engineer', 'Teacher', 'Doctor'])\n",
        "# #Method 1\n",
        "my_dict_pd= {}\n",
        "my_dict1_pd ={}\n",
        "for (key, value) in zip(name[0], profs[0]):\n",
        "  my_dict_pd[key] = value\n",
        "print(\"USING ZIP\")\n",
        "print(my_dict_pd)\n",
        "\n",
        "#method2\n",
        "for i in range(len(name)):\n",
        "  my_dict1_pd[name[0][i]] = profs[0][i]\n",
        "print(\"USING RANGE\")\n",
        "print(my_dict1_pd)\n",
        "\n",
        "\n",
        "my_dict_com_pd={key:value for (key, value) in zip(name[0], profs[0])}\n",
        "print(\"DICT COMPRESNSION\")\n",
        "print(my_dict_com_pd)\n",
        "\n",
        "# range comprehension\n",
        "my_dict_com_range_pd={name[0][i]:profs[0][i] for i in range(len(name))}\n",
        "print(\"DICT COMPRESNSION RANGE\")\n",
        "print(my_dict_com_range_pd)\n",
        "\n"
      ],
      "metadata": {
        "colab": {
          "base_uri": "https://localhost:8080/"
        },
        "id": "jXcFe4EMt1F0",
        "outputId": "d0adf661-cc4d-4b99-d7d7-7972263a17c7"
      },
      "execution_count": 124,
      "outputs": [
        {
          "output_type": "stream",
          "name": "stdout",
          "text": [
            "USING ZIP\n",
            "{'pams': 'Engineer', 'rajesh': 'Teacher', 'shweta': 'Doctor'}\n",
            "USING RANGE\n",
            "{'pams': 'Engineer', 'rajesh': 'Teacher', 'shweta': 'Doctor'}\n",
            "DICT COMPRESNSION\n",
            "{'pams': 'Engineer', 'rajesh': 'Teacher', 'shweta': 'Doctor'}\n",
            "DICT COMPRESNSION RANGE\n",
            "{'pams': 'Engineer', 'rajesh': 'Teacher', 'shweta': 'Doctor'}\n"
          ]
        }
      ]
    },
    {
      "cell_type": "code",
      "source": [
        "my_heros={'Spider' : 'photographer', 'Bat':'philanthropist', 'Wonder Wo': 'Nurse'}\n",
        "my_heros_man={key+'man': value for (key , value) in my_heros.items()}\n",
        "print(my_heros_man)\n",
        "\n",
        "# update Sider to super using conditon\n",
        "# lets change the spidermans profession using condition\n",
        "my_heros_super={(key+'man' if key != 'Spider' else 'Superman'):(value if value !='photographer' else 'journalist') for (key, value) in my_heros.items()}\n",
        "print(my_heros_super)\n",
        "\n",
        "\n"
      ],
      "metadata": {
        "colab": {
          "base_uri": "https://localhost:8080/"
        },
        "id": "Pn0UywclvDvT",
        "outputId": "66d1e63d-804a-45d1-9205-a058b74377d9"
      },
      "execution_count": 132,
      "outputs": [
        {
          "output_type": "stream",
          "name": "stdout",
          "text": [
            "{'Spiderman': 'photographer', 'Batman': 'philanthropist', 'Wonder Woman': 'Nurse'}\n",
            "{'Superman': 'journalist', 'Batman': 'philanthropist', 'Wonder Woman': 'Nurse'}\n"
          ]
        }
      ]
    },
    {
      "cell_type": "code",
      "source": [
        "squar_dict={x: x**2 for x in range(1,11)}\n",
        "print(squar_dict)"
      ],
      "metadata": {
        "colab": {
          "base_uri": "https://localhost:8080/"
        },
        "id": "tsm9mvP3NfQq",
        "outputId": "9e12d0e9-66f0-4c92-fc01-9ce5493676cf"
      },
      "execution_count": 91,
      "outputs": [
        {
          "output_type": "stream",
          "name": "stdout",
          "text": [
            "{1: 1, 2: 4, 3: 9, 4: 16, 5: 25, 6: 36, 7: 49, 8: 64, 9: 81, 10: 100}\n"
          ]
        }
      ]
    },
    {
      "cell_type": "code",
      "source": [
        "#find the key suppose 36 from the dict\n",
        "\n",
        "key={k for k,v in squar_dict.items() if v == 36}\n",
        "print(key)"
      ],
      "metadata": {
        "colab": {
          "base_uri": "https://localhost:8080/"
        },
        "id": "Ov_p_FDfP_TQ",
        "outputId": "04fbdfed-0a8d-499c-88a0-7457a7af6e3c"
      },
      "execution_count": 94,
      "outputs": [
        {
          "output_type": "stream",
          "name": "stdout",
          "text": [
            "{6}\n"
          ]
        }
      ]
    },
    {
      "cell_type": "markdown",
      "source": [
        "# Set Comprehension"
      ],
      "metadata": {
        "id": "rBMsIuISTS5a"
      }
    },
    {
      "cell_type": "code",
      "source": [
        "squar_dict={x**2 for x in range(1,11)}\n",
        "print(squar_dict)\n",
        "print(type(squar_dict))"
      ],
      "metadata": {
        "colab": {
          "base_uri": "https://localhost:8080/"
        },
        "id": "HjZkcvzZSykW",
        "outputId": "100e38eb-6896-402d-9eab-f9a46239faaf"
      },
      "execution_count": 95,
      "outputs": [
        {
          "output_type": "stream",
          "name": "stdout",
          "text": [
            "{64, 1, 4, 36, 100, 9, 16, 49, 81, 25}\n",
            "<class 'set'>\n"
          ]
        }
      ]
    },
    {
      "cell_type": "markdown",
      "source": [
        "### PROGRAM\n",
        "\n",
        "Manipulting Stings : we can use list comprehnsion to manipulate strings and create a new list with the results\n",
        "\n",
        "for example to create a new list with the lenghts of the words in an existing list of strings\n",
        "\n",
        "\n",
        "list_words= ['mom' ,'shyam', 'madam', 'dad', 'liril', 'malayalam' ,'rajesh', 'redder' ,\"level\"]\n"
      ],
      "metadata": {
        "id": "qdQE0x-vTnrX"
      }
    },
    {
      "cell_type": "code",
      "source": [
        "#words =['mom' ,'shyam', 'madam', 'dad', 'liril', 'malayalam' ,'rajesh', 'redder' ,\"level\"]\n",
        "\n",
        "print('Enter words seperated by comma')\n",
        "# list comprehension to get inputs from the user\n",
        "word_list=[word for word in input().split()]\n",
        "print(word_list)\n",
        "# find length\n",
        "word_len=[len(wlen) for wlen in word_list]\n",
        "print(word_len)\n",
        "word_dict=dict(zip(word_list, word_len))\n",
        "print(word_dict)\n",
        "for i, v in word_dict.items():\n",
        "  print(i, '\\t',v)\n",
        "\n"
      ],
      "metadata": {
        "colab": {
          "base_uri": "https://localhost:8080/"
        },
        "id": "pIsk8AQNTdZ8",
        "outputId": "9eb91630-9ce8-4f0f-ee5d-1b6d4aac420a"
      },
      "execution_count": 108,
      "outputs": [
        {
          "output_type": "stream",
          "name": "stdout",
          "text": [
            "Enter words seperated by comma\n",
            "mam shyam madam dad liril malayalam rajesh redder level\n",
            "['mam', 'shyam', 'madam', 'dad', 'liril', 'malayalam', 'rajesh', 'redder', 'level']\n",
            "[3, 5, 5, 3, 5, 9, 6, 6, 5]\n",
            "{'mam': 3, 'shyam': 5, 'madam': 5, 'dad': 3, 'liril': 5, 'malayalam': 9, 'rajesh': 6, 'redder': 6, 'level': 5}\n",
            "mam \t 3\n",
            "shyam \t 5\n",
            "madam \t 5\n",
            "dad \t 3\n",
            "liril \t 5\n",
            "malayalam \t 9\n",
            "rajesh \t 6\n",
            "redder \t 6\n",
            "level \t 5\n"
          ]
        }
      ]
    },
    {
      "cell_type": "code",
      "source": [],
      "metadata": {
        "id": "79-V7DJeUi-Y"
      },
      "execution_count": null,
      "outputs": []
    }
  ]
}